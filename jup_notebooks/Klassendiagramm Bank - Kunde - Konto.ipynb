{
 "cells": [
  {
   "cell_type": "markdown",
   "metadata": {
    "hideCode": false,
    "hidePrompt": false
   },
   "source": [
    "# Übungen zum Klassendiagramm"
   ]
  },
  {
   "cell_type": "markdown",
   "metadata": {
    "hideCode": false,
    "hidePrompt": false,
    "solution2": "hidden",
    "solution2_first": true
   },
   "source": [
    "Wir betrachten eine Bank und ihre Kunden. Eine Person wird Kunde, wenn sie ein Konto eröffnet. Ein Kunde kann beliebig viele weitere Konten eröffnen. Für jeden neuen Kunden werden Name, Adresse und Datum der ersten Kontoeröffnung erfaßt. Bei Kontoeröffnung muß der Kunde gleich eine erste Einzahlung vornehmen.\n",
    "Wir unterscheiden Girokonten und Sparkonten. Girokonten dürfen bis zu einem bestimmten Betrag überzogen werden.  Für jedes Konto wird ein indiv. Habenzins, für Girokonten auch ein indiv. Sollzins festgelegt.\n",
    "Jedes Konto besitzt eine eindeutige Kontonummer. Für jedes Konto wird die Art des Sparens - z.B. Festgeld - gespeichert.  Ein Kunde kann Beträge einzahlen und abheben.\n",
    "Habenzinsen werden gutgeschrieben, Überziehungszinsen vom Girokonto abgebucht.\n",
    "Um Zinsen zu berechnen, muß für jede Kontobewegung das Datum und der Betrag notiert werden. \n",
    "Die Gutschrift/Abbuchung der Zinsen erfolgt bei den Sparkonten jährlich und bei den Girokonten quartalsweise. Ein Kunde kann jedes seiner Konten wieder auflösen. Bei der Auflösung des letzten Kontos hört er auf, Kunde zu sein."
   ]
  },
  {
   "cell_type": "markdown",
   "metadata": {
    "hideCode": false,
    "hidePrompt": false,
    "solution2": "hidden"
   },
   "source": [
    "## Lösung"
   ]
  },
  {
   "cell_type": "code",
   "execution_count": 1,
   "metadata": {
    "collapsed": true,
    "hideCode": false,
    "hidePrompt": false,
    "solution2": "hidden"
   },
   "outputs": [],
   "source": [
    "import iplantuml"
   ]
  },
  {
   "cell_type": "code",
   "execution_count": 2,
   "metadata": {
    "code_folding": [
     28
    ],
    "hideCode": false,
    "hidePrompt": false,
    "scrolled": true,
    "solution2": "hidden"
   },
   "outputs": [
    {
     "data": {
      "image/svg+xml": [
       "<svg contentScriptType=\"application/ecmascript\" contentStyleType=\"text/css\" height=\"269px\" preserveAspectRatio=\"none\" style=\"width:556px;height:269px;\" version=\"1.1\" viewBox=\"0 0 556 269\" width=\"556px\" xmlns=\"http://www.w3.org/2000/svg\" xmlns:xlink=\"http://www.w3.org/1999/xlink\" zoomAndPan=\"magnify\"><defs><filter height=\"300%\" id=\"f2394ad\" width=\"300%\" x=\"-1\" y=\"-1\"><feGaussianBlur result=\"blurOut\" stdDeviation=\"2.0\"/><feColorMatrix in=\"blurOut\" result=\"blurOut2\" type=\"matrix\" values=\"0 0 0 0 0 0 0 0 0 0 0 0 0 0 0 0 0 0 .4 0\"/><feOffset dx=\"4.0\" dy=\"4.0\" in=\"blurOut2\" result=\"blurOut3\"/><feBlend in=\"SourceGraphic\" in2=\"blurOut3\" mode=\"normal\"/></filter></defs><g><!--class Kunde--><rect fill=\"#FFFF00\" filter=\"url(#f2394ad)\" height=\"75.6719\" style=\"stroke: #00FF7F; stroke-width: 1.5;\" width=\"68\" x=\"7\" y=\"21.5\"/><ellipse cx=\"22\" cy=\"37.5\" fill=\"#ADD1B2\" rx=\"11\" ry=\"11\" style=\"stroke: #00FF7F; stroke-width: 1.0;\"/><path d=\"M24.7656,33.375 Q24.9219,33.1563 25.1094,33.0469 Q25.2969,32.9375 25.5156,32.9375 Q25.8906,32.9375 26.125,33.1953 Q26.3594,33.4531 26.3594,34.0625 L26.3594,35.5156 Q26.3594,36.125 26.125,36.3906 Q25.8906,36.6563 25.5156,36.6563 Q25.1719,36.6563 24.9688,36.4531 Q24.7656,36.2656 24.6563,35.75 Q24.6094,35.3906 24.4219,35.2031 Q24.0938,34.8281 23.4844,34.6094 Q22.875,34.3906 22.25,34.3906 Q21.4844,34.3906 20.8516,34.7188 Q20.2188,35.0469 19.7266,35.7969 Q19.2344,36.5469 19.2344,37.5781 L19.2344,38.6719 Q19.2344,39.9063 20.125,40.7266 Q21.0156,41.5469 22.6094,41.5469 Q23.5469,41.5469 24.2031,41.2969 Q24.5938,41.1406 25.0156,40.7031 Q25.2813,40.4375 25.4297,40.3594 Q25.5781,40.2813 25.7813,40.2813 Q26.1094,40.2813 26.3672,40.5391 Q26.625,40.7969 26.625,41.1406 Q26.625,41.4844 26.2813,41.8906 Q25.7813,42.4688 24.9844,42.7969 Q23.9063,43.25 22.6094,43.25 Q21.0938,43.25 19.8906,42.625 Q18.9063,42.125 18.2188,41.0547 Q17.5313,39.9844 17.5313,38.7031 L17.5313,37.5469 Q17.5313,36.2188 18.1484,35.0703 Q18.7656,33.9219 19.8594,33.3047 Q20.9531,32.6875 22.1875,32.6875 Q22.9219,32.6875 23.5703,32.8516 Q24.2188,33.0156 24.7656,33.375 Z \"/><text fill=\"#000000\" font-family=\"sans-serif\" font-size=\"12\" lengthAdjust=\"spacingAndGlyphs\" textLength=\"36\" x=\"36\" y=\"42.4102\">Kunde</text><line style=\"stroke: #00FF7F; stroke-width: 1.5;\" x1=\"8\" x2=\"74\" y1=\"53.5\" y2=\"53.5\"/><text fill=\"#000000\" font-family=\"sans-serif\" font-size=\"11\" lengthAdjust=\"spacingAndGlyphs\" textLength=\"27\" x=\"13\" y=\"68.9189\">Name</text><line style=\"stroke: #00FF7F; stroke-width: 1.5;\" x1=\"8\" x2=\"74\" y1=\"75.3359\" y2=\"75.3359\"/><text fill=\"#000000\" font-family=\"sans-serif\" font-size=\"11\" lengthAdjust=\"spacingAndGlyphs\" textLength=\"39\" x=\"13\" y=\"90.7549\">Kunde()</text><!--class Konto--><rect fill=\"#FFFF00\" filter=\"url(#f2394ad)\" height=\"103.3438\" style=\"stroke: #00FF7F; stroke-width: 1.5;\" width=\"184\" x=\"110\" y=\"8\"/><ellipse cx=\"181.75\" cy=\"24\" fill=\"#A9DCDF\" rx=\"11\" ry=\"11\" style=\"stroke: #00FF7F; stroke-width: 1.0;\"/><path d=\"M183.9375,25.7656 L179.7969,25.7656 L179.375,26.7969 L179.7969,26.7969 Q180.4063,26.7969 180.6719,27.0313 Q180.9375,27.2656 180.9375,27.6563 Q180.9375,28.0313 180.6719,28.2656 Q180.4063,28.5 179.7969,28.5 L177.5,28.5 Q176.8906,28.5 176.6328,28.2656 Q176.375,28.0313 176.375,27.6406 Q176.375,27.2656 176.6484,27.0234 Q176.9219,26.7813 177.5469,26.7969 L180.2188,20.1406 L179.1094,20.1406 Q178.5,20.1406 178.2344,19.9063 Q177.9688,19.6719 177.9688,19.2813 Q177.9688,18.9063 178.2344,18.6719 Q178.5,18.4375 179.1094,18.4375 L182.7813,18.4375 L186.1719,26.7969 Q186.7656,26.7969 186.9531,26.9375 Q187.3438,27.2031 187.3438,27.6563 Q187.3438,28.0313 187.0859,28.2656 Q186.8281,28.5 186.2188,28.5 L183.9219,28.5 Q183.3125,28.5 183.0469,28.2656 Q182.7813,28.0313 182.7813,27.6406 Q182.7813,27.2656 183.0469,27.0313 Q183.3125,26.7969 183.9219,26.7969 L184.3438,26.7969 L183.9375,25.7656 Z M183.2188,24.0625 L181.8594,20.6875 L180.4844,24.0625 L183.2188,24.0625 Z \"/><text fill=\"#000000\" font-family=\"sans-serif\" font-size=\"12\" font-style=\"italic\" lengthAdjust=\"spacingAndGlyphs\" textLength=\"32\" x=\"202.25\" y=\"28.9102\">Konto</text><line style=\"stroke: #00FF7F; stroke-width: 1.5;\" x1=\"111\" x2=\"293\" y1=\"40\" y2=\"40\"/><polygon fill=\"none\" points=\"121,47.418,125,51.418,121,55.418,117,51.418\" style=\"stroke: #B38D22; stroke-width: 1.0;\"/><text fill=\"#000000\" font-family=\"sans-serif\" font-size=\"11\" lengthAdjust=\"spacingAndGlyphs\" textLength=\"59\" x=\"130\" y=\"55.4189\">KontoNr : int</text><line style=\"stroke: #00FF7F; stroke-width: 1.5;\" x1=\"111\" x2=\"293\" y1=\"61.8359\" y2=\"61.8359\"/><ellipse cx=\"121\" cy=\"74.2539\" fill=\"#84BE84\" rx=\"3\" ry=\"3\" style=\"stroke: #038048; stroke-width: 1.0;\"/><text fill=\"#000000\" font-family=\"sans-serif\" font-size=\"11\" lengthAdjust=\"spacingAndGlyphs\" textLength=\"103\" x=\"130\" y=\"77.2549\">Konto(double Betrag)</text><ellipse cx=\"121\" cy=\"88.0898\" fill=\"#84BE84\" rx=\"3\" ry=\"3\" style=\"stroke: #038048; stroke-width: 1.0;\"/><text fill=\"#000000\" font-family=\"sans-serif\" font-size=\"11\" lengthAdjust=\"spacingAndGlyphs\" textLength=\"144\" x=\"130\" y=\"91.0908\">void einzahlen(double Betrag)</text><ellipse cx=\"121\" cy=\"101.9258\" fill=\"#84BE84\" rx=\"3\" ry=\"3\" style=\"stroke: #038048; stroke-width: 1.0;\"/><text fill=\"#000000\" font-family=\"sans-serif\" font-size=\"11\" font-style=\"italic\" lengthAdjust=\"spacingAndGlyphs\" textLength=\"158\" x=\"130\" y=\"104.9268\">double abheben(double Betrag)</text><!--class Kontobewegung--><rect fill=\"#FFFF00\" filter=\"url(#f2394ad)\" height=\"89.5078\" style=\"stroke: #00FF7F; stroke-width: 1.5;\" width=\"218\" x=\"329\" y=\"14.5\"/><ellipse cx=\"388.75\" cy=\"30.5\" fill=\"#ADD1B2\" rx=\"11\" ry=\"11\" style=\"stroke: #00FF7F; stroke-width: 1.0;\"/><path d=\"M391.5156,26.375 Q391.6719,26.1563 391.8594,26.0469 Q392.0469,25.9375 392.2656,25.9375 Q392.6406,25.9375 392.875,26.1953 Q393.1094,26.4531 393.1094,27.0625 L393.1094,28.5156 Q393.1094,29.125 392.875,29.3906 Q392.6406,29.6563 392.2656,29.6563 Q391.9219,29.6563 391.7188,29.4531 Q391.5156,29.2656 391.4063,28.75 Q391.3594,28.3906 391.1719,28.2031 Q390.8438,27.8281 390.2344,27.6094 Q389.625,27.3906 389,27.3906 Q388.2344,27.3906 387.6016,27.7188 Q386.9688,28.0469 386.4766,28.7969 Q385.9844,29.5469 385.9844,30.5781 L385.9844,31.6719 Q385.9844,32.9063 386.875,33.7266 Q387.7656,34.5469 389.3594,34.5469 Q390.2969,34.5469 390.9531,34.2969 Q391.3438,34.1406 391.7656,33.7031 Q392.0313,33.4375 392.1797,33.3594 Q392.3281,33.2813 392.5313,33.2813 Q392.8594,33.2813 393.1172,33.5391 Q393.375,33.7969 393.375,34.1406 Q393.375,34.4844 393.0313,34.8906 Q392.5313,35.4688 391.7344,35.7969 Q390.6563,36.25 389.3594,36.25 Q387.8438,36.25 386.6406,35.625 Q385.6563,35.125 384.9688,34.0547 Q384.2813,32.9844 384.2813,31.7031 L384.2813,30.5469 Q384.2813,29.2188 384.8984,28.0703 Q385.5156,26.9219 386.6094,26.3047 Q387.7031,25.6875 388.9375,25.6875 Q389.6719,25.6875 390.3203,25.8516 Q390.9688,26.0156 391.5156,26.375 Z \"/><text fill=\"#000000\" font-family=\"sans-serif\" font-size=\"12\" lengthAdjust=\"spacingAndGlyphs\" textLength=\"90\" x=\"409.25\" y=\"35.4102\">Kontobewegung</text><line style=\"stroke: #00FF7F; stroke-width: 1.5;\" x1=\"330\" x2=\"546\" y1=\"46.5\" y2=\"46.5\"/><rect fill=\"none\" height=\"6\" style=\"stroke: #C82930; stroke-width: 1.0;\" width=\"6\" x=\"337\" y=\"55.918\"/><text fill=\"#000000\" font-family=\"sans-serif\" font-size=\"11\" lengthAdjust=\"spacingAndGlyphs\" textLength=\"30\" x=\"349\" y=\"61.9189\">Datum</text><rect fill=\"none\" height=\"6\" style=\"stroke: #C82930; stroke-width: 1.0;\" width=\"6\" x=\"337\" y=\"69.7539\"/><text fill=\"#000000\" font-family=\"sans-serif\" font-size=\"11\" lengthAdjust=\"spacingAndGlyphs\" textLength=\"32\" x=\"349\" y=\"75.7549\">Betrag</text><line style=\"stroke: #00FF7F; stroke-width: 1.5;\" x1=\"330\" x2=\"546\" y1=\"82.1719\" y2=\"82.1719\"/><ellipse cx=\"340\" cy=\"94.5898\" fill=\"#84BE84\" rx=\"3\" ry=\"3\" style=\"stroke: #038048; stroke-width: 1.0;\"/><text fill=\"#000000\" font-family=\"sans-serif\" font-size=\"11\" lengthAdjust=\"spacingAndGlyphs\" textLength=\"192\" x=\"349\" y=\"97.5908\">Konto(Datum: DateTime, double Betrag )</text><!--class Girokonto--><rect fill=\"#FFFF00\" filter=\"url(#f2394ad)\" height=\"89.5078\" style=\"stroke: #00FF7F; stroke-width: 1.5;\" width=\"178\" x=\"6\" y=\"171\"/><ellipse cx=\"64.25\" cy=\"187\" fill=\"#ADD1B2\" rx=\"11\" ry=\"11\" style=\"stroke: #00FF7F; stroke-width: 1.0;\"/><path d=\"M67.0156,182.875 Q67.1719,182.6563 67.3594,182.5469 Q67.5469,182.4375 67.7656,182.4375 Q68.1406,182.4375 68.375,182.6953 Q68.6094,182.9531 68.6094,183.5625 L68.6094,185.0156 Q68.6094,185.625 68.375,185.8906 Q68.1406,186.1563 67.7656,186.1563 Q67.4219,186.1563 67.2188,185.9531 Q67.0156,185.7656 66.9063,185.25 Q66.8594,184.8906 66.6719,184.7031 Q66.3438,184.3281 65.7344,184.1094 Q65.125,183.8906 64.5,183.8906 Q63.7344,183.8906 63.1016,184.2188 Q62.4688,184.5469 61.9766,185.2969 Q61.4844,186.0469 61.4844,187.0781 L61.4844,188.1719 Q61.4844,189.4063 62.375,190.2266 Q63.2656,191.0469 64.8594,191.0469 Q65.7969,191.0469 66.4531,190.7969 Q66.8438,190.6406 67.2656,190.2031 Q67.5313,189.9375 67.6797,189.8594 Q67.8281,189.7813 68.0313,189.7813 Q68.3594,189.7813 68.6172,190.0391 Q68.875,190.2969 68.875,190.6406 Q68.875,190.9844 68.5313,191.3906 Q68.0313,191.9688 67.2344,192.2969 Q66.1563,192.75 64.8594,192.75 Q63.3438,192.75 62.1406,192.125 Q61.1563,191.625 60.4688,190.5547 Q59.7813,189.4844 59.7813,188.2031 L59.7813,187.0469 Q59.7813,185.7188 60.3984,184.5703 Q61.0156,183.4219 62.1094,182.8047 Q63.2031,182.1875 64.4375,182.1875 Q65.1719,182.1875 65.8203,182.3516 Q66.4688,182.5156 67.0156,182.875 Z \"/><text fill=\"#000000\" font-family=\"sans-serif\" font-size=\"12\" lengthAdjust=\"spacingAndGlyphs\" textLength=\"53\" x=\"84.75\" y=\"191.9102\">Girokonto</text><line style=\"stroke: #00FF7F; stroke-width: 1.5;\" x1=\"7\" x2=\"183\" y1=\"203\" y2=\"203\"/><rect fill=\"none\" height=\"6\" style=\"stroke: #C82930; stroke-width: 1.0;\" width=\"6\" x=\"14\" y=\"212.418\"/><text fill=\"#000000\" font-family=\"sans-serif\" font-size=\"11\" lengthAdjust=\"spacingAndGlyphs\" textLength=\"68\" x=\"26\" y=\"218.4189\">Dispo : double</text><rect fill=\"none\" height=\"6\" style=\"stroke: #C82930; stroke-width: 1.0;\" width=\"6\" x=\"14\" y=\"226.2539\"/><text fill=\"#000000\" font-family=\"sans-serif\" font-size=\"11\" lengthAdjust=\"spacingAndGlyphs\" textLength=\"78\" x=\"26\" y=\"232.2549\">Sollzins : double</text><line style=\"stroke: #00FF7F; stroke-width: 1.5;\" x1=\"7\" x2=\"183\" y1=\"238.6719\" y2=\"238.6719\"/><ellipse cx=\"17\" cy=\"251.0898\" fill=\"#84BE84\" rx=\"3\" ry=\"3\" style=\"stroke: #038048; stroke-width: 1.0;\"/><text fill=\"#000000\" font-family=\"sans-serif\" font-size=\"11\" lengthAdjust=\"spacingAndGlyphs\" textLength=\"152\" x=\"26\" y=\"254.0908\">double abheben(double Betrag)</text><!--class Sparkonto--><rect fill=\"#FFFF00\" filter=\"url(#f2394ad)\" height=\"61.8359\" style=\"stroke: #00FF7F; stroke-width: 1.5;\" width=\"178\" x=\"219\" y=\"185\"/><ellipse cx=\"275.75\" cy=\"201\" fill=\"#ADD1B2\" rx=\"11\" ry=\"11\" style=\"stroke: #00FF7F; stroke-width: 1.0;\"/><path d=\"M278.5156,196.875 Q278.6719,196.6563 278.8594,196.5469 Q279.0469,196.4375 279.2656,196.4375 Q279.6406,196.4375 279.875,196.6953 Q280.1094,196.9531 280.1094,197.5625 L280.1094,199.0156 Q280.1094,199.625 279.875,199.8906 Q279.6406,200.1563 279.2656,200.1563 Q278.9219,200.1563 278.7188,199.9531 Q278.5156,199.7656 278.4063,199.25 Q278.3594,198.8906 278.1719,198.7031 Q277.8438,198.3281 277.2344,198.1094 Q276.625,197.8906 276,197.8906 Q275.2344,197.8906 274.6016,198.2188 Q273.9688,198.5469 273.4766,199.2969 Q272.9844,200.0469 272.9844,201.0781 L272.9844,202.1719 Q272.9844,203.4063 273.875,204.2266 Q274.7656,205.0469 276.3594,205.0469 Q277.2969,205.0469 277.9531,204.7969 Q278.3438,204.6406 278.7656,204.2031 Q279.0313,203.9375 279.1797,203.8594 Q279.3281,203.7813 279.5313,203.7813 Q279.8594,203.7813 280.1172,204.0391 Q280.375,204.2969 280.375,204.6406 Q280.375,204.9844 280.0313,205.3906 Q279.5313,205.9688 278.7344,206.2969 Q277.6563,206.75 276.3594,206.75 Q274.8438,206.75 273.6406,206.125 Q272.6563,205.625 271.9688,204.5547 Q271.2813,203.4844 271.2813,202.2031 L271.2813,201.0469 Q271.2813,199.7188 271.8984,198.5703 Q272.5156,197.4219 273.6094,196.8047 Q274.7031,196.1875 275.9375,196.1875 Q276.6719,196.1875 277.3203,196.3516 Q277.9688,196.5156 278.5156,196.875 Z \"/><text fill=\"#000000\" font-family=\"sans-serif\" font-size=\"12\" lengthAdjust=\"spacingAndGlyphs\" textLength=\"56\" x=\"296.25\" y=\"205.9102\">Sparkonto</text><line style=\"stroke: #00FF7F; stroke-width: 1.5;\" x1=\"220\" x2=\"396\" y1=\"217\" y2=\"217\"/><line style=\"stroke: #00FF7F; stroke-width: 1.5;\" x1=\"220\" x2=\"396\" y1=\"225\" y2=\"225\"/><ellipse cx=\"230\" cy=\"237.418\" fill=\"#84BE84\" rx=\"3\" ry=\"3\" style=\"stroke: #038048; stroke-width: 1.0;\"/><text fill=\"#000000\" font-family=\"sans-serif\" font-size=\"11\" lengthAdjust=\"spacingAndGlyphs\" textLength=\"152\" x=\"239\" y=\"240.4189\">double abheben(double Betrag)</text><path d=\"M75.2754,59.5 C86.8258,59.5 98.3762,59.5 109.927,59.5 \" fill=\"none\" style=\"stroke: #2E8B57; stroke-width: 1.0;\"/><text fill=\"#000000\" font-family=\"sans-serif\" font-size=\"13\" lengthAdjust=\"spacingAndGlyphs\" textLength=\"7\" x=\"83.0666\" y=\"55.4152\">1</text><text fill=\"#000000\" font-family=\"sans-serif\" font-size=\"13\" lengthAdjust=\"spacingAndGlyphs\" textLength=\"20\" x=\"82.1117\" y=\"56.3829\">1..*</text><path d=\"M155.375,127.823 C145.298,142.373 134.891,157.4 125.615,170.7944 \" fill=\"none\" style=\"stroke: #2E8B57; stroke-width: 1.0;\"/><polygon fill=\"none\" points=\"149.823,123.546,166.964,111.089,161.332,131.516,149.823,123.546\" style=\"stroke: #2E8B57; stroke-width: 1.0;\"/><path d=\"M248.163,127.784 C261.768,147.614 275.984,168.3356 287.145,184.6025 \" fill=\"none\" style=\"stroke: #2E8B57; stroke-width: 1.0;\"/><polygon fill=\"none\" points=\"242.251,131.541,236.708,111.089,253.795,123.621,242.251,131.541\" style=\"stroke: #2E8B57; stroke-width: 1.0;\"/><path d=\"M307.413,59.5 C314.521,59.5 321.629,59.5 328.736,59.5 \" fill=\"none\" style=\"stroke: #2E8B57; stroke-width: 1.0;\"/><polygon fill=\"#FFFFFF\" points=\"294.188,59.5,300.188,63.5,306.188,59.5,300.188,55.5,294.188,59.5\" style=\"stroke: #2E8B57; stroke-width: 1.0;\"/><text fill=\"#000000\" font-family=\"sans-serif\" font-size=\"13\" lengthAdjust=\"spacingAndGlyphs\" textLength=\"7\" x=\"302.1122\" y=\"56.3329\">1</text><text fill=\"#000000\" font-family=\"sans-serif\" font-size=\"13\" lengthAdjust=\"spacingAndGlyphs\" textLength=\"16\" x=\"304.8573\" y=\"56.486\">1.*</text></g></svg>"
      ],
      "text/plain": [
       "<IPython.core.display.SVG object>"
      ]
     },
     "execution_count": 2,
     "metadata": {},
     "output_type": "execute_result"
    }
   ],
   "source": [
    "\n",
    "%%plantuml\n",
    "\n",
    "@startuml\n",
    "\n",
    "skinparam class {\n",
    "    BackgroundColor PaleGreen\n",
    "    ArrowColor SeaGreen\n",
    "    BorderColor SpringGreen\n",
    "    classAttributeIconSize 0\n",
    "    BackgroundColor Yellow\n",
    "}\n",
    "\n",
    "\n",
    "class Kunde\n",
    "abstract class Konto\n",
    "class Kontobewegung\n",
    "\n",
    "class Girokonto\n",
    "class Sparkonto\n",
    "\n",
    "\n",
    "Kunde \"1\" - \"1..*\" Konto\n",
    "Konto <|-- Girokonto\n",
    "Konto <|-- Sparkonto\n",
    "Konto \"1\" o- \"1.*\" Kontobewegung\n",
    "\n",
    "\n",
    "abstract class Konto {\n",
    "    # KontoNr : int\n",
    "    \n",
    "    + Konto(double Betrag)\n",
    "    + void einzahlen(double Betrag)\n",
    "    + {abstract} double abheben(double Betrag)\n",
    "    \n",
    "}\n",
    "\n",
    "class Kunde {\n",
    "  Name\n",
    "  Kunde()\n",
    "  \n",
    "}\n",
    "\n",
    "class Kontobewegung {\n",
    "  - Datum\n",
    "  - Betrag\n",
    "  + Konto(Datum: DateTime, double Betrag )\n",
    "  \n",
    "}\n",
    "\n",
    "\n",
    "class Girokonto {\n",
    "  - Dispo : double\n",
    "  - Sollzins : double\n",
    "  + double abheben(double Betrag)\n",
    "  \n",
    "}\n",
    "\n",
    "class Sparkonto {\n",
    "  + double abheben(double Betrag)\n",
    "\n",
    "}\n",
    "\n",
    "\n",
    "@enduml"
   ]
  },
  {
   "cell_type": "markdown",
   "metadata": {
    "heading_collapsed": true,
    "hideCode": false,
    "hidePrompt": false
   },
   "source": [
    "# New heading"
   ]
  },
  {
   "cell_type": "markdown",
   "metadata": {
    "hideCode": false,
    "hidePrompt": false
   },
   "source": [
    "# New heading"
   ]
  },
  {
   "cell_type": "markdown",
   "metadata": {
    "hideCode": false,
    "hidePrompt": false
   },
   "source": [
    "# Tutorium"
   ]
  },
  {
   "cell_type": "markdown",
   "metadata": {
    "hideCode": false,
    "hidePrompt": false,
    "solution2": "shown",
    "solution2_first": true
   },
   "source": [
    "wefew jewjjrew\n",
    " ewjewjrwlker\n",
    " "
   ]
  },
  {
   "cell_type": "code",
   "execution_count": null,
   "metadata": {
    "collapsed": true,
    "hideCode": false,
    "hidePrompt": false,
    "solution2": "shown"
   },
   "outputs": [],
   "source": [
    "import plantuml"
   ]
  },
  {
   "cell_type": "code",
   "execution_count": 3,
   "metadata": {
    "hideCode": false,
    "hidePrompt": false,
    "solution2": "shown"
   },
   "outputs": [
    {
     "data": {
      "image/svg+xml": [
       "<svg contentScriptType=\"application/ecmascript\" contentStyleType=\"text/css\" height=\"173px\" preserveAspectRatio=\"none\" style=\"width:339px;height:173px;\" version=\"1.1\" viewBox=\"0 0 339 173\" width=\"339px\" xmlns=\"http://www.w3.org/2000/svg\" xmlns:xlink=\"http://www.w3.org/1999/xlink\" zoomAndPan=\"magnify\"><defs><filter height=\"300%\" id=\"f0lgyq2\" width=\"300%\" x=\"-1\" y=\"-1\"><feGaussianBlur result=\"blurOut\" stdDeviation=\"2.0\"/><feColorMatrix in=\"blurOut\" result=\"blurOut2\" type=\"matrix\" values=\"0 0 0 0 0 0 0 0 0 0 0 0 0 0 0 0 0 0 .4 0\"/><feOffset dx=\"4.0\" dy=\"4.0\" in=\"blurOut2\" result=\"blurOut3\"/><feBlend in=\"SourceGraphic\" in2=\"blurOut3\" mode=\"normal\"/></filter></defs><g><!--class Kunde--><rect fill=\"#98FB98\" filter=\"url(#f0lgyq2)\" height=\"48\" style=\"stroke: #00FF7F; stroke-width: 1.5;\" width=\"68\" x=\"6\" y=\"8\"/><ellipse cx=\"21\" cy=\"24\" fill=\"#FFFFFF\" rx=\"11\" ry=\"11\" style=\"stroke: #00FF7F; stroke-width: 1.0;\"/><path d=\"M23.7656,19.875 Q23.9219,19.6563 24.1094,19.5469 Q24.2969,19.4375 24.5156,19.4375 Q24.8906,19.4375 25.125,19.6953 Q25.3594,19.9531 25.3594,20.5625 L25.3594,22.0156 Q25.3594,22.625 25.125,22.8906 Q24.8906,23.1563 24.5156,23.1563 Q24.1719,23.1563 23.9688,22.9531 Q23.7656,22.7656 23.6563,22.25 Q23.6094,21.8906 23.4219,21.7031 Q23.0938,21.3281 22.4844,21.1094 Q21.875,20.8906 21.25,20.8906 Q20.4844,20.8906 19.8516,21.2188 Q19.2188,21.5469 18.7266,22.2969 Q18.2344,23.0469 18.2344,24.0781 L18.2344,25.1719 Q18.2344,26.4063 19.125,27.2266 Q20.0156,28.0469 21.6094,28.0469 Q22.5469,28.0469 23.2031,27.7969 Q23.5938,27.6406 24.0156,27.2031 Q24.2813,26.9375 24.4297,26.8594 Q24.5781,26.7813 24.7813,26.7813 Q25.1094,26.7813 25.3672,27.0391 Q25.625,27.2969 25.625,27.6406 Q25.625,27.9844 25.2813,28.3906 Q24.7813,28.9688 23.9844,29.2969 Q22.9063,29.75 21.6094,29.75 Q20.0938,29.75 18.8906,29.125 Q17.9063,28.625 17.2188,27.5547 Q16.5313,26.4844 16.5313,25.2031 L16.5313,24.0469 Q16.5313,22.7188 17.1484,21.5703 Q17.7656,20.4219 18.8594,19.8047 Q19.9531,19.1875 21.1875,19.1875 Q21.9219,19.1875 22.5703,19.3516 Q23.2188,19.5156 23.7656,19.875 Z \"/><text fill=\"#000000\" font-family=\"sans-serif\" font-size=\"12\" lengthAdjust=\"spacingAndGlyphs\" textLength=\"36\" x=\"35\" y=\"28.9102\">Kunde</text><line style=\"stroke: #00FF7F; stroke-width: 1.5;\" x1=\"7\" x2=\"73\" y1=\"40\" y2=\"40\"/><line style=\"stroke: #00FF7F; stroke-width: 1.5;\" x1=\"7\" x2=\"73\" y1=\"48\" y2=\"48\"/><!--class Konto--><rect fill=\"#98FB98\" filter=\"url(#f0lgyq2)\" height=\"48\" style=\"stroke: #00FF7F; stroke-width: 1.5;\" width=\"64\" x=\"109\" y=\"8\"/><ellipse cx=\"124\" cy=\"24\" fill=\"#A9DCDF\" rx=\"11\" ry=\"11\" style=\"stroke: #00FF7F; stroke-width: 1.0;\"/><path d=\"M126.1875,25.7656 L122.0469,25.7656 L121.625,26.7969 L122.0469,26.7969 Q122.6563,26.7969 122.9219,27.0313 Q123.1875,27.2656 123.1875,27.6563 Q123.1875,28.0313 122.9219,28.2656 Q122.6563,28.5 122.0469,28.5 L119.75,28.5 Q119.1406,28.5 118.8828,28.2656 Q118.625,28.0313 118.625,27.6406 Q118.625,27.2656 118.8984,27.0234 Q119.1719,26.7813 119.7969,26.7969 L122.4688,20.1406 L121.3594,20.1406 Q120.75,20.1406 120.4844,19.9063 Q120.2188,19.6719 120.2188,19.2813 Q120.2188,18.9063 120.4844,18.6719 Q120.75,18.4375 121.3594,18.4375 L125.0313,18.4375 L128.4219,26.7969 Q129.0156,26.7969 129.2031,26.9375 Q129.5938,27.2031 129.5938,27.6563 Q129.5938,28.0313 129.3359,28.2656 Q129.0781,28.5 128.4688,28.5 L126.1719,28.5 Q125.5625,28.5 125.2969,28.2656 Q125.0313,28.0313 125.0313,27.6406 Q125.0313,27.2656 125.2969,27.0313 Q125.5625,26.7969 126.1719,26.7969 L126.5938,26.7969 L126.1875,25.7656 Z M125.4688,24.0625 L124.1094,20.6875 L122.7344,24.0625 L125.4688,24.0625 Z \"/><text fill=\"#000000\" font-family=\"sans-serif\" font-size=\"12\" font-style=\"italic\" lengthAdjust=\"spacingAndGlyphs\" textLength=\"32\" x=\"138\" y=\"28.9102\">Konto</text><line style=\"stroke: #00FF7F; stroke-width: 1.5;\" x1=\"110\" x2=\"172\" y1=\"40\" y2=\"40\"/><line style=\"stroke: #00FF7F; stroke-width: 1.5;\" x1=\"110\" x2=\"172\" y1=\"48\" y2=\"48\"/><!--class Kontobewegung--><rect fill=\"#98FB98\" filter=\"url(#f0lgyq2)\" height=\"48\" style=\"stroke: #00FF7F; stroke-width: 1.5;\" width=\"122\" x=\"208\" y=\"8\"/><ellipse cx=\"223\" cy=\"24\" fill=\"#FFFFFF\" rx=\"11\" ry=\"11\" style=\"stroke: #00FF7F; stroke-width: 1.0;\"/><path d=\"M225.7656,19.875 Q225.9219,19.6563 226.1094,19.5469 Q226.2969,19.4375 226.5156,19.4375 Q226.8906,19.4375 227.125,19.6953 Q227.3594,19.9531 227.3594,20.5625 L227.3594,22.0156 Q227.3594,22.625 227.125,22.8906 Q226.8906,23.1563 226.5156,23.1563 Q226.1719,23.1563 225.9688,22.9531 Q225.7656,22.7656 225.6563,22.25 Q225.6094,21.8906 225.4219,21.7031 Q225.0938,21.3281 224.4844,21.1094 Q223.875,20.8906 223.25,20.8906 Q222.4844,20.8906 221.8516,21.2188 Q221.2188,21.5469 220.7266,22.2969 Q220.2344,23.0469 220.2344,24.0781 L220.2344,25.1719 Q220.2344,26.4063 221.125,27.2266 Q222.0156,28.0469 223.6094,28.0469 Q224.5469,28.0469 225.2031,27.7969 Q225.5938,27.6406 226.0156,27.2031 Q226.2813,26.9375 226.4297,26.8594 Q226.5781,26.7813 226.7813,26.7813 Q227.1094,26.7813 227.3672,27.0391 Q227.625,27.2969 227.625,27.6406 Q227.625,27.9844 227.2813,28.3906 Q226.7813,28.9688 225.9844,29.2969 Q224.9063,29.75 223.6094,29.75 Q222.0938,29.75 220.8906,29.125 Q219.9063,28.625 219.2188,27.5547 Q218.5313,26.4844 218.5313,25.2031 L218.5313,24.0469 Q218.5313,22.7188 219.1484,21.5703 Q219.7656,20.4219 220.8594,19.8047 Q221.9531,19.1875 223.1875,19.1875 Q223.9219,19.1875 224.5703,19.3516 Q225.2188,19.5156 225.7656,19.875 Z \"/><text fill=\"#000000\" font-family=\"sans-serif\" font-size=\"12\" lengthAdjust=\"spacingAndGlyphs\" textLength=\"90\" x=\"237\" y=\"28.9102\">Kontobewegung</text><line style=\"stroke: #00FF7F; stroke-width: 1.5;\" x1=\"209\" x2=\"329\" y1=\"40\" y2=\"40\"/><line style=\"stroke: #00FF7F; stroke-width: 1.5;\" x1=\"209\" x2=\"329\" y1=\"48\" y2=\"48\"/><!--class Girokonto--><rect fill=\"#98FB98\" filter=\"url(#f0lgyq2)\" height=\"48\" style=\"stroke: #00FF7F; stroke-width: 1.5;\" width=\"85\" x=\"37.5\" y=\"116\"/><ellipse cx=\"52.5\" cy=\"132\" fill=\"#FFFFFF\" rx=\"11\" ry=\"11\" style=\"stroke: #00FF7F; stroke-width: 1.0;\"/><path d=\"M55.2656,127.875 Q55.4219,127.6563 55.6094,127.5469 Q55.7969,127.4375 56.0156,127.4375 Q56.3906,127.4375 56.625,127.6953 Q56.8594,127.9531 56.8594,128.5625 L56.8594,130.0156 Q56.8594,130.625 56.625,130.8906 Q56.3906,131.1563 56.0156,131.1563 Q55.6719,131.1563 55.4688,130.9531 Q55.2656,130.7656 55.1563,130.25 Q55.1094,129.8906 54.9219,129.7031 Q54.5938,129.3281 53.9844,129.1094 Q53.375,128.8906 52.75,128.8906 Q51.9844,128.8906 51.3516,129.2188 Q50.7188,129.5469 50.2266,130.2969 Q49.7344,131.0469 49.7344,132.0781 L49.7344,133.1719 Q49.7344,134.4063 50.625,135.2266 Q51.5156,136.0469 53.1094,136.0469 Q54.0469,136.0469 54.7031,135.7969 Q55.0938,135.6406 55.5156,135.2031 Q55.7813,134.9375 55.9297,134.8594 Q56.0781,134.7813 56.2813,134.7813 Q56.6094,134.7813 56.8672,135.0391 Q57.125,135.2969 57.125,135.6406 Q57.125,135.9844 56.7813,136.3906 Q56.2813,136.9688 55.4844,137.2969 Q54.4063,137.75 53.1094,137.75 Q51.5938,137.75 50.3906,137.125 Q49.4063,136.625 48.7188,135.5547 Q48.0313,134.4844 48.0313,133.2031 L48.0313,132.0469 Q48.0313,130.7188 48.6484,129.5703 Q49.2656,128.4219 50.3594,127.8047 Q51.4531,127.1875 52.6875,127.1875 Q53.4219,127.1875 54.0703,127.3516 Q54.7188,127.5156 55.2656,127.875 Z \"/><text fill=\"#000000\" font-family=\"sans-serif\" font-size=\"12\" lengthAdjust=\"spacingAndGlyphs\" textLength=\"53\" x=\"66.5\" y=\"136.9102\">Girokonto</text><line style=\"stroke: #00FF7F; stroke-width: 1.5;\" x1=\"38.5\" x2=\"121.5\" y1=\"148\" y2=\"148\"/><line style=\"stroke: #00FF7F; stroke-width: 1.5;\" x1=\"38.5\" x2=\"121.5\" y1=\"156\" y2=\"156\"/><!--class Sparkonto--><rect fill=\"#98FB98\" filter=\"url(#f0lgyq2)\" height=\"48\" style=\"stroke: #00FF7F; stroke-width: 1.5;\" width=\"88\" x=\"158\" y=\"116\"/><ellipse cx=\"173\" cy=\"132\" fill=\"#FFFFFF\" rx=\"11\" ry=\"11\" style=\"stroke: #00FF7F; stroke-width: 1.0;\"/><path d=\"M175.7656,127.875 Q175.9219,127.6563 176.1094,127.5469 Q176.2969,127.4375 176.5156,127.4375 Q176.8906,127.4375 177.125,127.6953 Q177.3594,127.9531 177.3594,128.5625 L177.3594,130.0156 Q177.3594,130.625 177.125,130.8906 Q176.8906,131.1563 176.5156,131.1563 Q176.1719,131.1563 175.9688,130.9531 Q175.7656,130.7656 175.6563,130.25 Q175.6094,129.8906 175.4219,129.7031 Q175.0938,129.3281 174.4844,129.1094 Q173.875,128.8906 173.25,128.8906 Q172.4844,128.8906 171.8516,129.2188 Q171.2188,129.5469 170.7266,130.2969 Q170.2344,131.0469 170.2344,132.0781 L170.2344,133.1719 Q170.2344,134.4063 171.125,135.2266 Q172.0156,136.0469 173.6094,136.0469 Q174.5469,136.0469 175.2031,135.7969 Q175.5938,135.6406 176.0156,135.2031 Q176.2813,134.9375 176.4297,134.8594 Q176.5781,134.7813 176.7813,134.7813 Q177.1094,134.7813 177.3672,135.0391 Q177.625,135.2969 177.625,135.6406 Q177.625,135.9844 177.2813,136.3906 Q176.7813,136.9688 175.9844,137.2969 Q174.9063,137.75 173.6094,137.75 Q172.0938,137.75 170.8906,137.125 Q169.9063,136.625 169.2188,135.5547 Q168.5313,134.4844 168.5313,133.2031 L168.5313,132.0469 Q168.5313,130.7188 169.1484,129.5703 Q169.7656,128.4219 170.8594,127.8047 Q171.9531,127.1875 173.1875,127.1875 Q173.9219,127.1875 174.5703,127.3516 Q175.2188,127.5156 175.7656,127.875 Z \"/><text fill=\"#000000\" font-family=\"sans-serif\" font-size=\"12\" lengthAdjust=\"spacingAndGlyphs\" textLength=\"56\" x=\"187\" y=\"136.9102\">Sparkonto</text><line style=\"stroke: #00FF7F; stroke-width: 1.5;\" x1=\"159\" x2=\"245\" y1=\"148\" y2=\"148\"/><line style=\"stroke: #00FF7F; stroke-width: 1.5;\" x1=\"159\" x2=\"245\" y1=\"156\" y2=\"156\"/><path d=\"M74.3242,32 C85.8709,32 97.4177,32 108.964,32 \" fill=\"none\" style=\"stroke: #2E8B57; stroke-width: 1.0;\"/><path d=\"M117.628,73.6133 C109.437,87.8479 100.5183,103.3452 93.4209,115.6784 \" fill=\"none\" style=\"stroke: #2E8B57; stroke-width: 1.0;\"/><polygon fill=\"none\" points=\"111.721,69.8436,127.764,56,123.855,76.8265,111.721,69.8436\" style=\"stroke: #2E8B57; stroke-width: 1.0;\"/><path d=\"M164.372,73.6133 C172.563,87.8479 181.482,103.3452 188.579,115.6784 \" fill=\"none\" style=\"stroke: #2E8B57; stroke-width: 1.0;\"/><polygon fill=\"none\" points=\"158.145,76.8265,154.236,56,170.279,69.8436,158.145,76.8265\" style=\"stroke: #2E8B57; stroke-width: 1.0;\"/><path d=\"M186.638,32 C193.699,32 200.76,32 207.82,32 \" fill=\"none\" style=\"stroke: #2E8B57; stroke-width: 1.0;\"/><polygon fill=\"#FFFFFF\" points=\"173.5,32,179.5,36,185.5,32,179.5,28,173.5,32\" style=\"stroke: #2E8B57; stroke-width: 1.0;\"/><text fill=\"#000000\" font-family=\"sans-serif\" font-size=\"13\" lengthAdjust=\"spacingAndGlyphs\" textLength=\"7\" x=\"180.925\" y=\"27.8814\">1</text><text fill=\"#000000\" font-family=\"sans-serif\" font-size=\"13\" lengthAdjust=\"spacingAndGlyphs\" textLength=\"16\" x=\"183.8211\" y=\"28.5904\">1.*</text></g></svg>"
      ],
      "text/plain": [
       "<IPython.core.display.SVG object>"
      ]
     },
     "execution_count": 3,
     "metadata": {},
     "output_type": "execute_result"
    }
   ],
   "source": [
    "%%plantuml\n",
    "\n",
    "@startuml\n",
    "\n",
    "skinparam class {\n",
    "\tBackgroundColor PaleGreen\n",
    "\tArrowColor SeaGreen\n",
    "\tBorderColor SpringGreen\n",
    "}\n",
    "skinparam stereotypeCBackgroundColor YellowGreen classAttributeIconSize 0\n",
    "\n",
    "    class Kunde\n",
    "    abstract class Konto\n",
    "    class Kontobewegung\n",
    "\n",
    "class Girokonto\n",
    "class Sparkonto\n",
    "\n",
    "\n",
    "Kunde - Konto\n",
    "Konto <|-- Girokonto\n",
    "Konto <|-- Sparkonto\n",
    "Konto \"1\" o- \"1.*\" Kontobewegung\n",
    "\n",
    "@enduml"
   ]
  }
 ],
 "metadata": {
  "hide_code_all_hidden": false,
  "kernelspec": {
   "display_name": "Python 3",
   "language": "python",
   "name": "python3"
  },
  "language_info": {
   "codemirror_mode": {
    "name": "ipython",
    "version": 3
   },
   "file_extension": ".py",
   "mimetype": "text/x-python",
   "name": "python",
   "nbconvert_exporter": "python",
   "pygments_lexer": "ipython3",
   "version": "3.5.1"
  },
  "toc": {
   "colors": {
    "hover_highlight": "#DAA520",
    "running_highlight": "#FF0000",
    "selected_highlight": "#FFD700"
   },
   "moveMenuLeft": true,
   "nav_menu": {
    "height": "116px",
    "width": "224px"
   },
   "navigate_menu": true,
   "number_sections": true,
   "sideBar": true,
   "threshold": 4,
   "toc_cell": false,
   "toc_section_display": "block",
   "toc_window_display": false,
   "widenNotebook": false
  }
 },
 "nbformat": 4,
 "nbformat_minor": 2
}
