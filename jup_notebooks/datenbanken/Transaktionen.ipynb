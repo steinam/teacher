{
 "cells": [
  {
   "cell_type": "markdown",
   "metadata": {
    "extensions": {
     "jupyter_dashboards": {
      "version": 1,
      "views": {
       "grid_default": {
        "col": 0,
        "height": 4,
        "hidden": false,
        "row": 13,
        "width": 4
       },
       "report_default": {
        "hidden": false
       }
      }
     }
    },
    "hideCode": true,
    "hidePrompt": true
   },
   "source": [
    "# Transaktionen"
   ]
  },
  {
   "cell_type": "markdown",
   "metadata": {
    "collapsed": true,
    "extensions": {
     "jupyter_dashboards": {
      "version": 1,
      "views": {
       "grid_default": {
        "col": 0,
        "height": 6,
        "hidden": false,
        "row": 17,
        "width": 12
       },
       "report_default": {
        "hidden": false
       }
      }
     }
    },
    "hideCode": true,
    "hidePrompt": true
   },
   "source": [
    "Datenbanken müssen für den gleichzeitigen Zugriff mehrerer Benutzer ausgelegt sein. Daraus können sich mannigfaltige Probleme ergeben. DBMS versuchen mit dem Prinzip der **Transaktion** diese Probleme in den Griff zu bekommen.\n",
    "\n",
    "Eine Transaktion ist damit als eine Folge von Anweisungen zu sehen, die entweder komplett übernommen (committ) oder abgebrochen (rollback) werden.\n",
    "\n",
    "Im Kontext dieses **Alles oder Nichts** kann es zu unterschiedlichen Spielarten geben. Inbesondere muss man sich darüber im Klaren sein, wie man den Zugriff anderer Clients auf die durch eine Transaktion gesperrten Datensätze regelt.\n"
   ]
  },
  {
   "cell_type": "markdown",
   "metadata": {
    "collapsed": true,
    "extensions": {
     "jupyter_dashboards": {
      "version": 1,
      "views": {
       "grid_default": {
        "col": 4,
        "height": 4,
        "hidden": false,
        "row": 13,
        "width": 4
       },
       "report_default": {
        "hidden": false
       }
      }
     }
    },
    "hideCode": true,
    "hideOutput": false,
    "hidePrompt": true
   },
   "source": [
    "## Probleme bei gleichzeitigen Zugriff\n"
   ]
  },
  {
   "cell_type": "markdown",
   "metadata": {
    "extensions": {
     "jupyter_dashboards": {
      "version": 1,
      "views": {
       "grid_default": {
        "col": 8,
        "height": 4,
        "hidden": false,
        "row": 13,
        "width": 4
       },
       "report_default": {
        "hidden": false
       }
      }
     }
    },
    "hideCode": true,
    "hidePrompt": true
   },
   "source": [
    "### Lost Updates"
   ]
  },
  {
   "cell_type": "markdown",
   "metadata": {
    "extensions": {
     "jupyter_dashboards": {
      "version": 1,
      "views": {
       "grid_default": {
        "col": 0,
        "height": 11,
        "hidden": false,
        "row": 23,
        "width": 12
       },
       "report_default": {
        "hidden": false
       }
      }
     }
    },
    "hideCode": true,
    "hidePrompt": true
   },
   "source": [
    "Mehrere Transaktionen wollen zur gleichen Zeit einen einzelnen Datensatz bearbeiten.\n",
    "\n",
    "\n",
    "|Zeit    |  Transaktion 1   | Transaktion 2 |\n",
    "|-------------------------------------------|\n",
    "|  1     |    read(x)       |               |\n",
    "|  2     |                  |   read(x)     |\n",
    "|  3     |                  |   x = x + 100 |\n",
    "|  4     |                  |   write(x)    |\n",
    "|  5     |    x = x + 1     |               |\n",
    "|  6     |    write(x)      |               |\n",
    "|  7     |                  |               |\n",
    "\n",
    "In diesem Szenario ergibt sich für T2 der Verlust seiner Änderung"
   ]
  },
  {
   "cell_type": "markdown",
   "metadata": {
    "extensions": {
     "jupyter_dashboards": {
      "version": 1,
      "views": {
       "grid_default": {
        "col": 0,
        "height": 4,
        "hidden": false,
        "row": 34,
        "width": 4
       },
       "report_default": {
        "hidden": false
       }
      }
     }
    },
    "heading_collapsed": true,
    "hideCode": true,
    "hidePrompt": true
   },
   "source": [
    "### Dirty Reads"
   ]
  },
  {
   "cell_type": "markdown",
   "metadata": {
    "extensions": {
     "jupyter_dashboards": {
      "version": 1,
      "views": {
       "grid_default": {
        "col": 0,
        "height": 11,
        "hidden": false,
        "row": 38,
        "width": 12
       },
       "report_default": {
        "hidden": false
       }
      }
     }
    },
    "hidden": true
   },
   "source": [
    "Ein User sieht Änderungen, die noch nicht von ihm selbst oder von anderen Usern committed oder rollbacked wurden. \n",
    "\n",
    "|Zeit    |Transaktion 1      |  Transaktion 2\n",
    "|--------------------------------------------\n",
    "|1       |  read(x)          |\n",
    "|2       |  x = x + 100      |\n",
    "|3       |  write(x)         |\n",
    "|4       |                   |   read(x)\n",
    "|5       |                   |   x = x - 100\n",
    "|6       |  ROLLBACK         |\n",
    "|7       |                   |   write(x)\n",
    "\n",
    "In diesem Falle konnte T2 schon auf Daten zugreifen, die von T1 noch nicht endgültig freigegeben wurden. \n",
    "\n"
   ]
  },
  {
   "cell_type": "markdown",
   "metadata": {
    "extensions": {
     "jupyter_dashboards": {
      "version": 1,
      "views": {
       "grid_default": {
        "col": 4,
        "height": 4,
        "hidden": false,
        "row": 34,
        "width": 4
       },
       "report_default": {
        "hidden": false
       }
      }
     }
    },
    "heading_collapsed": true
   },
   "source": [
    "### Non repeatable Reads"
   ]
  },
  {
   "cell_type": "markdown",
   "metadata": {
    "extensions": {
     "jupyter_dashboards": {
      "version": 1,
      "views": {
       "grid_default": {
        "col": 0,
        "height": 19,
        "hidden": false,
        "row": 49,
        "width": 12
       },
       "report_default": {
        "hidden": false
       }
      }
     }
    },
    "hidden": true
   },
   "source": [
    "User wählen wiederholt Zeilen aus, die andere User ändern oder löschen. \n",
    "Ob dies ein Problem darstellt hängt von den jeweiligen Umständen ab (Inventur vs. Reisebüro) \n",
    "\n",
    "**Ausgangsbedingung**\n",
    "\n",
    "x =40 y =50 z = 30\n",
    "\n",
    "|Zeit  |  Transaktion 1     |     ransaktion 2\n",
    "|----------------------------------------------\n",
    "|1     |     sum = 0        |\n",
    "|2     |     read( x )      |\n",
    "|3     |     read( y )      |\n",
    "|4     |     sum = sum + x  |\n",
    "|5     |     sum = sum + y  |\n",
    "|6     |                    |      read( z )\n",
    "|7     |                    |      z = z 10\n",
    "|8     |                    |      write( z )\n",
    "|9     |                    |      read( x )\n",
    "|10    |                    |      x = x + 10\n",
    "|11    |                    |      write( x )\n",
    "|12    |     read( z ) |    |\n",
    "|13    |     sum = sum + z  |"
   ]
  },
  {
   "cell_type": "markdown",
   "metadata": {
    "extensions": {
     "jupyter_dashboards": {
      "version": 1,
      "views": {
       "grid_default": {
        "col": 8,
        "height": 4,
        "hidden": false,
        "row": 34,
        "width": 4
       },
       "report_default": {
        "hidden": false
       }
      }
     }
    },
    "heading_collapsed": true
   },
   "source": [
    "### Phantom Rows"
   ]
  },
  {
   "cell_type": "markdown",
   "metadata": {
    "extensions": {
     "jupyter_dashboards": {
      "version": 1,
      "views": {
       "grid_default": {
        "col": 0,
        "height": 12,
        "hidden": false,
        "row": 68,
        "width": 12
       },
       "report_default": {
        "hidden": false
       }
      }
     }
    },
    "hidden": true
   },
   "source": [
    "Ein User kann einige, aber nicht alle neuen Datensätze lesen, die ein anderer User eingegeben hat.\n",
    "\n",
    "|Zeit  |   Transaktion 1     |   Transaktion 2\n",
    "|:-----|:--------------------|:----------------------------\n",
    "|1     |   Select Counter    |\n",
    "|      |   from PassCounter  |\n",
    "|2     |                     |   Update Passengers\n",
    "|      |                     |   set Flight = 4711\n",
    "|      |                     |   where Name = 'Phantom'\n",
    "|3     |                     |   Update PassCounter\n",
    "|      |                     |   set Counter = Counter + 1\n",
    "|4     |   select *          | \n",
    "|      |   from Passengers   |\n",
    "\n"
   ]
  },
  {
   "cell_type": "markdown",
   "metadata": {
    "extensions": {
     "jupyter_dashboards": {
      "version": 1,
      "views": {
       "grid_default": {
        "col": 0,
        "height": 4,
        "hidden": false,
        "row": 80,
        "width": 12
       },
       "report_default": {
        "hidden": false
       }
      }
     }
    }
   },
   "source": [
    "## Konzept Transaktion\n",
    "\n",
    "Als Transaktion (von lateinisch trans „(hin-)über“, agere „treiben, handeln, führen“: also wörtlich: Überführung; dt. hier besser: Durchführung) bezeichnet man in der Informatik eine Folge von Programmschritten, die als eine logische Einheit betrachtet werden."
   ]
  },
  {
   "cell_type": "markdown",
   "metadata": {
    "extensions": {
     "jupyter_dashboards": {
      "version": 1,
      "views": {
       "grid_default": {
        "col": 0,
        "height": 4,
        "hidden": false,
        "row": 84,
        "width": 4
       },
       "report_default": {
        "hidden": false
       }
      }
     }
    },
    "heading_collapsed": true
   },
   "source": [
    "### ACID"
   ]
  },
  {
   "cell_type": "markdown",
   "metadata": {
    "extensions": {
     "jupyter_dashboards": {
      "version": 1,
      "views": {
       "grid_default": {
        "col": 0,
        "height": 13,
        "hidden": false,
        "row": 88,
        "width": 12
       },
       "report_default": {
        "hidden": false
       }
      }
     }
    },
    "hidden": true
   },
   "source": [
    "Transaktionen werden durch die sog. ACID - Eigenschaften beschrieben:\n",
    "    \n",
    "- Atomarität\n",
    "  \n",
    "  Eine Transaktion wird entweder ganz oder gar nicht ausgeführt\n",
    "  \n",
    "  \n",
    "\n",
    "- Konsistenz (Serialisierbarkeit)\n",
    "\n",
    "  Transaktionen überführen die Datenbank von einem konsistenten Zustand in einen anderen konsistenten Zustand. Dies \n",
    "  wird durch das Prinzip der Serialisierung erreicht.\n",
    "  \n",
    "\n",
    "- Isolation\n",
    "\n",
    "  Nebenläufige (gleichzeitige) Transaktionen laufen jede für sich so ab, als ob sie alleine ablaufen würden.   \n",
    "  Verschiedene Isolationslevel sind möglich\n",
    "\n",
    "\n",
    "- Dauerhaftigkeit\n",
    "\n",
    "  Die Wirkung einer abgeschlossenen (Dauerhaftigkeit) Transaktionen bleibt (auch nach einem Systemausfall) erhalten. \n",
    "  Dies wird durch spezielle Recovery-Mechanismen erreicht\n",
    "  \n",
    "  "
   ]
  },
  {
   "cell_type": "markdown",
   "metadata": {
    "extensions": {
     "jupyter_dashboards": {
      "version": 1,
      "views": {
       "grid_default": {
        "col": 4,
        "height": 4,
        "hidden": false,
        "row": 84,
        "width": 4
       },
       "report_default": {
        "hidden": false
       }
      }
     }
    },
    "heading_collapsed": true
   },
   "source": [
    "### Zustände"
   ]
  },
  {
   "cell_type": "markdown",
   "metadata": {
    "extensions": {
     "jupyter_dashboards": {
      "version": 1,
      "views": {
       "grid_default": {
        "col": 0,
        "height": 20,
        "hidden": false,
        "row": 101,
        "width": 12
       },
       "report_default": {
        "hidden": false
       }
      }
     }
    },
    "hidden": true
   },
   "source": [
    "Eine Transaktion befindet sich immer in einem von drei Zuständen.\n",
    "\n",
    "- Aktiv: Die Transaktion läuft ab; es finden die entsprechenden INSERT, UPDATE, DELETE - Anweisungen statt.\n",
    "\n",
    "- Aborted: Aufgrund eines Fehlers wird die Transaktion zurückgesetzt (ROLLBACK)\n",
    "\n",
    "- Committed: Bei fehlerfreier Ausführung gilt die Transaktion als abgeschlossen (COMMITTED)\n",
    "\n",
    "![figure/trans_acid.png](../figure/trans_acid.png)\n"
   ]
  },
  {
   "cell_type": "markdown",
   "metadata": {
    "extensions": {
     "jupyter_dashboards": {
      "version": 1,
      "views": {
       "grid_default": {
        "col": 8,
        "height": 4,
        "hidden": false,
        "row": 84,
        "width": 4
       },
       "report_default": {
        "hidden": false
       }
      }
     }
    }
   },
   "source": [
    "### Konsistenz"
   ]
  },
  {
   "cell_type": "markdown",
   "metadata": {
    "extensions": {
     "jupyter_dashboards": {
      "version": 1,
      "views": {
       "grid_default": {
        "hidden": true
       },
       "report_default": {
        "hidden": false
       }
      }
     }
    }
   },
   "source": [
    "Das DBMS garantiert dafür, dass die Daten sich immer in einem konsistenten Zustand befindet. Sie hält dafür häufig mehrere Versionen der gleiche Daten, um auf einen vorhergehenden Datenbestand zurückgreifen zu können.\n",
    "\n",
    "\n",
    "![trans_acid1.png](../figure/trans_acid1.png)"
   ]
  },
  {
   "cell_type": "markdown",
   "metadata": {
    "extensions": {
     "jupyter_dashboards": {
      "version": 1,
      "views": {
       "grid_default": {
        "col": 0,
        "height": 4,
        "hidden": false,
        "row": 121,
        "width": 4
       },
       "report_default": {
        "hidden": false
       }
      }
     }
    }
   },
   "source": [
    "### Serialisierung"
   ]
  },
  {
   "cell_type": "markdown",
   "metadata": {
    "extensions": {
     "jupyter_dashboards": {
      "version": 1,
      "views": {
       "grid_default": {
        "col": 0,
        "height": 28,
        "hidden": false,
        "row": 125,
        "width": 12
       },
       "report_default": {
        "hidden": false
       }
      }
     }
    }
   },
   "source": [
    "Serialisierung prüft, ob gleichzeitig stattfindende Transaktionen sich gegenseitig behindern würden\n",
    "\n",
    "**Pessimisistisch/Streng**\n",
    "Die einzelnen Transaktione werden nur hintereinander ausgeführt\n",
    "\n",
    "- keine Konflikte\n",
    "- langsam\n",
    "\n",
    "**Optimistisch/Weich**\n",
    "\n",
    "Erst beim Abschluss¸ einer Transaktion wird geprüft, ob sie sich serialisieren lässt. \n",
    "Sie kann deshalb abgebrochen werden und muss von vorne beginnen. \n",
    "Sie durchläuft normalerweise drei Phasen:\n",
    "    \n",
    "\n",
    "- Lesephase (Daten lesen und Berechnungen durchführen)\n",
    "- Validierungsphase (überprüft Einhaltung der Konsistenzkriterien)\n",
    "- Schreibphase (die in der Lesephase berechneten Änderungen werden eingetragen)\n",
    "\n",
    "\n",
    "Optimistische Serialisierung lässt alle Reihenfolgen zu, die keinen Schaden anrichten können.\n",
    "\n",
    "**überlappend, aber unschädlich**\n",
    "\n",
    "|Zeit  | Transaktion 1    |  Transaktion 2\n",
    "|-----------------------------------------------------\n",
    "|1     |   read(x)        |  \n",
    "|2     |                  |  read(y) \n",
    "|3     |   x = x + 100    |\n",
    "|4     |                  |  y = y - 100 \n",
    "|5     |   write(x)       |\n",
    "|6     |                  |  write(y)\n",
    "\n",
    "\n",
    "\n",
    "**überlappend und schädlich, nicht serialisierbar**\n",
    "\n",
    "|Zeit  | Transaktion 1  | Transaktion 2\n",
    "|-------------------------------------------------------\n",
    "|1     | read(x)        |\n",
    "|2     |                |   read(x) \n",
    "|3     |                |   x = x + 100\n",
    "|4     |                |   write(x) \n",
    "|5     | x = x + 1      |\n",
    "|6     | write(x)       |\n",
    "\n",
    "\n"
   ]
  },
  {
   "cell_type": "markdown",
   "metadata": {
    "extensions": {
     "jupyter_dashboards": {
      "version": 1,
      "views": {
       "grid_default": {
        "col": 4,
        "height": 4,
        "hidden": false,
        "row": 121,
        "width": 4
       },
       "report_default": {
        "hidden": false
       }
      }
     }
    }
   },
   "source": [
    "### Isolations-Level"
   ]
  },
  {
   "cell_type": "markdown",
   "metadata": {
    "extensions": {
     "jupyter_dashboards": {
      "version": 1,
      "views": {
       "grid_default": {
        "col": 0,
        "height": 20,
        "hidden": false,
        "row": 153,
        "width": 12
       },
       "report_default": {
        "hidden": false
       }
      }
     }
    }
   },
   "source": [
    "Die Isolation-Level beschreiben, welche möglichen Konflikte ein Client beim gleichzeitigen Zugriff akzeptiert, d.h inwieweit er bereit ist, mit inkosistenten Daten zu arbeitenzu sehen. \n",
    "\n",
    "Mysql kennt folgende Arten (https://dev.mysql.com/doc/refman/5.7/en/innodb-transaction-isolation-levels.html)\n",
    "\n",
    "Siehe dazu auch: http://www.ovaistariq.net/597/understanding-innodb-transaction-isolation-levels/#.WRn7bcakK00\n",
    "\n",
    "\n",
    "- READ UNCOMMITTED\n",
    "\n",
    "  Eine Transaktio2 sieht sofort alle Änderungen einer Transaktion1, auch wenn Transaktion1 noch nicht committed hat. Dies erlaubt den **Dirty_Read**, d.h. das Lesen von noch nicht endgültig abgeschlossenen Anweisungen einer anderen Transaktion. \n",
    "  \n",
    "  \n",
    "\n",
    "- READ COMMITTED\n",
    "\n",
    "   Eine Transaktio2 sieht nur die  Änderungen einer Transaktion1, wenn Transaktion1 sie committed hat. \n",
    "   Dies vermeiet den Dirty Read. Da jede Transaktion den zuletzt committeten Zustand erhält, kann es sein, dass zwischen zwei Selects einer Transaktion verschiedene Ergebnisse zurückgeliefert werden. Dies wird auch als **Unrepeatable Read** bezeichnet\n",
    "   \n",
    "   \n",
    "   \n",
    "- REPEATABLE READ\n",
    "\n",
    "  In diesem Falle behält jede Transaktion seinen eigenen Snapshot der Daten, der beim Beginn der Transaktion existiert hat. Dieser bleibt während der gesamten Dauer der Transaktion bestehen. Somit wird das Problem des Unrepeatable reads behoben, es bleibt jedoch das Problem der **Phantom Rows**\n",
    "  \n",
    "  \n",
    "  \n",
    "- SERIALIZABLE\n",
    "\n",
    "  In diesem Isolationlevels erzeugen die Transaktionen Locks auf alle zugegriffenen Daten sowie auf die benutzten Tabellen. Neue Daten können somit nicht hinzugefügt werden. Dies ist der strengste IsolationLevel und hat damit auch die meisten Auswikrungen auf die geschwindigkeit einer Datenbank.\n",
    "\n",
    "\n",
    "Isolationlevel haben auch Auswirkungen auf die Replikation einer Datenbank, da diese per default statement-basiert ist (die sql-Anweisungen werden auf den Slaves nochmals ausgeführt). Höhere Isolationslevel wie Repeatable-Read bzw. Serializable werden hier benötigt, um die Konsistenz der Daten sicherzustellen.\n",
    "\n",
    "\n"
   ]
  },
  {
   "cell_type": "markdown",
   "metadata": {
    "extensions": {
     "jupyter_dashboards": {
      "version": 1,
      "views": {
       "grid_default": {
        "col": 4,
        "height": 4,
        "hidden": false,
        "row": 189,
        "width": 4
       },
       "report_default": {
        "hidden": false
       }
      }
     }
    }
   },
   "source": [
    "## Beispiel zu Isolation Level"
   ]
  },
  {
   "cell_type": "code",
   "execution_count": 1,
   "metadata": {
    "collapsed": true
   },
   "outputs": [],
   "source": [
    "%load_ext sql"
   ]
  },
  {
   "cell_type": "code",
   "execution_count": 2,
   "metadata": {
    "extensions": {
     "jupyter_dashboards": {
      "version": 1,
      "views": {
       "grid_default": {
        "hidden": true
       },
       "report_default": {
        "hidden": true
       }
      }
     }
    }
   },
   "outputs": [
    {
     "name": "stderr",
     "output_type": "stream",
     "text": [
      "ERROR:root:Cell magic `%%sql` not found.\n"
     ]
    }
   ],
   "source": [
    "%%sql\n",
    "\n",
    "\n",
    "-- aus https://adayinthelifeof.nl/2010/12/20/innodb-isolation-levels/\n",
    "    \n",
    "Ein paar Beispiele.\n",
    "Sie benötigen dazu eine kleine Tabelle mit zwei Spalten und zwei Datensätzen.\n",
    "\n",
    "create table test(\n",
    "    id integer not null,\n",
    "    val integer\n",
    ") engine = innodb;\n",
    "\n",
    "insert into test(id, val) values(1,8);\n",
    "insert into test(id, val) values(2,8);\n",
    "\n",
    "+----+-----+\n",
    "| id | val |\n",
    "+----+-----+\n",
    "|  1 |   8 |\n",
    "|  2 |   8 |\n",
    "+----+-----+\n",
    "\n",
    "\n",
    "Wir greifen nun mit 2 Transaktionen auf die Tabelle zu und beobachten das Verhalten des Datenbankservers in \n",
    "Abhängigkeit vom gewählten Isolationlevel.\n",
    "\n",
    "\n",
    "read uncommited\n",
    "---------------\n",
    "\n",
    "TX A: start transaction;\n",
    "TX B: set session transaction isolation level read uncommitted;\n",
    "TX B: start transaction;\n",
    "TX A: select * from test;                   -- val = 8\n",
    "TX B: select * from test;                   -- val = 8\n",
    "TX A: update test set val = val + 1;        -- val = 9\n",
    "TX B: select * from test;                   -- val = 9, dirty read\n",
    "TX A: rollback;\n",
    "TX B: select * from test;                   -- val = 8\n",
    "TX B: commit;\n",
    "\n",
    "Wie man sieht, ist es für die Transaktion B möglich, Daten zu sehen, die von der Transaktion A geändert wurden. \n",
    "Nach dem Rollback der Transaktion A sind aber die Änderungen rückgängig gemacht worden.. \n",
    "\n",
    "\n",
    "read committed\n",
    "--------------\n",
    "\n",
    "TX A: start transaction;\n",
    "TX B: set session transaction isolation level read committed;\n",
    "TX B: start transaction;\n",
    "TX A: select * from test;                   -- val = 8\n",
    "TX B: select * from test;                   -- val = 8\n",
    "TX A: update test set val = val + 1;        -- val = 9\n",
    "TX B: select * from test;                   -- val = 8, No dirty read!\n",
    "TX A: commit\n",
    "TX B: select * from test;                   -- val = 9, commited read\n",
    "\n",
    "Ein Dirty Read ist nun nicht mehr möglich. Erst nach dem Commit durch Transaktion A sind die Daten \n",
    "für Transaktion B sichtbar\n",
    "    \n",
    "\n",
    "\n",
    "Repeatable read\n",
    "---------------\n",
    "\n",
    "\n",
    "TX A: start transaction;\n",
    "TX B: set session transaction isolation level repeatable read;\n",
    "TX B: start transaction;\n",
    "TX A: select * from test;                   -- val = 8\n",
    "TX B: select * from test;                   -- val = 8\n",
    "TX A: update test set val = val + 1;        -- val = 9\n",
    "TX B: select * from test;                   -- val = 8\n",
    "TX A: commit;\n",
    "TX B: select * from test;                   -- val = 8, repeatable read!  -- Fehler, ist nicht so\n",
    "TX B: commit;\n",
    "TX B: select * from test;                   -- val = 9 (from tx A)\n",
    "\n",
    "Auch nach dem Commit durch Transaktion A sehen wir noch die unveränderten Ausgangsdaten. \n",
    "Nur nach einem eigenen Commit bzw. Rollback sehen wir, dass sich die Daten geändert haben.\n",
    "    \n",
    "\n",
    "\n",
    "serializable\n",
    "------------\n",
    "\n",
    "TX A: start transaction;\n",
    "TX B: set session transaction isolation level serializable;\n",
    "TX B: start transaction;\n",
    "TX A: select * from test;               -- val = 8\n",
    "TX A: update test set val = val + 1;    -- val = 9\n",
    "TX B: select * from test;               -- LOCKED, NO OUTPUT\n",
    "TX A: commit;                           -- Unlocked TX B\n",
    "TX B: select * from test;               -- val = 8 (repeatable read!) --  ab hier ist das Beispiel falsch\n",
    "TX B: commit;\n",
    "TX B: select * from test;               -- val = 9 (now we see TX A)\n",
    "\n",
    "Wie sie sehen, können wir nach einer Änderung in Transaktion A die Daten in der anderen Transaktion B \n",
    "überhaupt nicht mehr sehen. Wir müssen warten, bis die Transaktion die Daten committed oder eine Rollback\n",
    "durchführt.\n",
    "Nachdem Transktion A seine Daten committed hat, kann Transaktion B die geänderten Daten immer noch nicht sehen, \n",
    "da es ansonsten  ein Non-Repeatable-Read wäre. Wir müssen unsere eigene Transaktion committen, \n",
    "um die Änderunen zu sehen.\n",
    "    \n"
   ]
  }
 ],
 "metadata": {
  "extensions": {
   "jupyter_dashboards": {
    "activeView": "report_default",
    "version": 1,
    "views": {
     "grid_default": {
      "cellMargin": 10,
      "defaultCellHeight": 20,
      "maxColumns": 12,
      "name": "grid",
      "type": "grid"
     },
     "report_default": {
      "name": "report",
      "type": "report"
     }
    }
   }
  },
  "hide_code_all_hidden": true,
  "hide_input": false,
  "kernelspec": {
   "display_name": "Python 3",
   "language": "python",
   "name": "python3"
  },
  "language_info": {
   "codemirror_mode": {
    "name": "ipython",
    "version": 3
   },
   "file_extension": ".py",
   "mimetype": "text/x-python",
   "name": "python",
   "nbconvert_exporter": "python",
   "pygments_lexer": "ipython3",
   "version": "3.5.1"
  },
  "nbTranslate": {
   "displayLangs": [
    "en",
    "de"
   ],
   "hotkey": "alt-t",
   "langInMainMenu": true,
   "sourceLang": "de",
   "targetLang": "en",
   "useGoogleTranslate": true
  },
  "toc": {
   "colors": {
    "hover_highlight": "#DAA520",
    "running_highlight": "#FF0000",
    "selected_highlight": "#FFD700"
   },
   "moveMenuLeft": true,
   "nav_menu": {
    "height": "12px",
    "width": "252px"
   },
   "navigate_menu": true,
   "number_sections": false,
   "sideBar": true,
   "threshold": 4,
   "toc_cell": false,
   "toc_position": {
    "height": "534px",
    "left": "0px",
    "right": "1154px",
    "top": "132px",
    "width": "212px"
   },
   "toc_section_display": "none",
   "toc_window_display": true,
   "widenNotebook": false
  }
 },
 "nbformat": 4,
 "nbformat_minor": 2
}
