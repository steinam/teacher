{
 "cells": [
  {
   "cell_type": "markdown",
   "metadata": {},
   "source": [
    "# Views"
   ]
  },
  {
   "attachments": {},
   "cell_type": "markdown",
   "metadata": {},
   "source": [
    "Views sind zunächst nichts anderes als gespeicherte SQL-Statements, die als aufrufbares Objekt in der Datenbank gespeichert werden.\n",
    "\n",
    "![Views.png](Views.png)\n",
    "\n",
    "\n",
    "Im Prinzip ein Art von SELECT - Abfrage, die Datensätze zurückgibt und sich in vielen Fällen wie eine normale Tabelle verhält. Sie ist ein normaler Tabellentyp im Sinne von SQL-89 und SQL-92\n",
    "\n"
   ]
  },
  {
   "cell_type": "markdown",
   "metadata": {},
   "source": [
    "**Bemerkungen**\n",
    "\n",
    "- Es wird keine echte Tabelle angelegt, sondern nur die Metadaten werden gespeichert.\n",
    "\n",
    "  - den eindeutigen Namen (identifier),\n",
    "  - eine Liste der Spaltennamen\n",
    "  - das SQL-Statement, mit dem die Daten aus den eigentlichen Basistabellen gewonnen werden\n",
    "\n",
    "- Kann Inhalte aus mehreren Tabellen anzeigen\n",
    "\n",
    "- In manchen Fällen sind Views updatebar, d.h. Änderungen am View wirken sich unmittelbar auf die zugrundeliegenden Tabellen aus.\n",
    "\n",
    " \n",
    "**Vorteil**\n",
    "\n",
    "- Vereinfachter Zugriff auf Daten, Wiederverwendbarkeit\n",
    "- Situationsspezifischer Zugriff auf Daten\n",
    "- Datenunabhängigkeit durch Abschirmen der User- Anwendungen von den Nebenwirkungen einerÄnderung des Datenbankdesigns. So könnte man z.B. eine Tabelle in zwei Teiltabellen aufsplitten. Bisherige SQL-Statements wären damit unbrauchbar. Auf der anderen Seite kann aber nun ein View implementiert werden, der einen Join beider neuen Tabellen darstellt. Die User-Applikationen können nun ihre SQL-Statements weiterbenutzen. Sie müssen nur den Tabellennamen durch den Viewnamen ädern.\n",
    "- Datensicherheit\n",
    "   Views können den Zugriff auf sensitive oder irrelevante Teile einer Tabelle verweigern. So könnte z.B. ein Benutzer das Recht haben, sich Job-Informationen bzgl. der EMPLOYEE-Tabelle über einen View zu besorgen. Der Zugriff auf die Gehaltsinformation der Datensätze kann ihm aber dennoch verwehrt werden\n",
    "\n"
   ]
  },
  {
   "cell_type": "code",
   "execution_count": null,
   "metadata": {
    "collapsed": true
   },
   "outputs": [],
   "source": []
  }
 ],
 "metadata": {
  "hide_input": false,
  "kernelspec": {
   "display_name": "Python 3",
   "language": "python",
   "name": "python3"
  },
  "language_info": {
   "codemirror_mode": {
    "name": "ipython",
    "version": 3
   },
   "file_extension": ".py",
   "mimetype": "text/x-python",
   "name": "python",
   "nbconvert_exporter": "python",
   "pygments_lexer": "ipython3",
   "version": "3.5.1"
  },
  "nbTranslate": {
   "displayLangs": [
    "en",
    "de"
   ],
   "hotkey": "alt-t",
   "langInMainMenu": true,
   "sourceLang": "de",
   "targetLang": "en",
   "useGoogleTranslate": true
  },
  "toc": {
   "colors": {
    "hover_highlight": "#DAA520",
    "running_highlight": "#FF0000",
    "selected_highlight": "#FFD700"
   },
   "moveMenuLeft": true,
   "nav_menu": {
    "height": "12px",
    "width": "252px"
   },
   "navigate_menu": true,
   "number_sections": true,
   "sideBar": true,
   "threshold": 4,
   "toc_cell": false,
   "toc_section_display": "block",
   "toc_window_display": false,
   "widenNotebook": false
  }
 },
 "nbformat": 4,
 "nbformat_minor": 2
}
