{
 "cells": [
  {
   "cell_type": "code",
   "execution_count": 2,
   "metadata": {},
   "outputs": [
    {
     "data": {
      "text/html": [
       "<html>\n",
       "<head>\n",
       "<link rel=\"stylesheet\" type=\"text/css\" href=\"my_style.css\">\n",
       "</head>\n",
       "<body>\n",
       "\n",
       "<h1>This is a hsdfeading</h1>\n",
       "<p>This is a jjjhjhj.</p>\n",
       "\n",
       "\n",
       "<script type=\"text/javascript\" src=\"script.js\"></script>\n",
       "</body>\n",
       "</body>\n",
       "</html>"
      ],
      "text/plain": [
       "<IPython.core.display.HTML object>"
      ]
     },
     "metadata": {},
     "output_type": "display_data"
    }
   ],
   "source": [
    "%%html\n",
    "<html>\n",
    "<head>\n",
    "<link rel=\"stylesheet\" type=\"text/css\" href=\"my_style.css\">\n",
    "</head>\n",
    "<body>\n",
    "\n",
    "<h1>This is a hsdfeading</h1>\n",
    "<p>This is a jjjhjhj.</p>\n",
    "\n",
    "\n",
    "<script type=\"text/javascript\" src=\"script.js\"></script>\n",
    "</body>\n",
    "</body>\n",
    "</html>\n"
   ]
  },
  {
   "cell_type": "code",
   "execution_count": null,
   "metadata": {
    "collapsed": true
   },
   "outputs": [],
   "source": []
  },
  {
   "cell_type": "code",
   "execution_count": 2,
   "metadata": {},
   "outputs": [
    {
     "data": {
      "text/html": [
       "<!DOCTYPE html>\n",
       "<html lang=\"de\">\n",
       "<head>\n",
       "<link rel=\"stylesheet\" type=\"text/css\" href=\"my_style.css\">\n",
       "  <meta charset=\"utf-8\">\n",
       "  <title>externes JavaScript und css in HTML einbinden</title>\n",
       "\n",
       "</head>\n",
       "<body>\n",
       "  <h1>externes JavaScript in HTML einbinden</h1>\n",
       " <p> test test</p>\n",
       "  <main>\n",
       "    <input type=\"number\" id=\"Eingabe\" value=\"0\" size=\"3\">\n",
       "    <button type=\"button\" id=\"los\">Quadrat errechnen</button>\n",
       "  </main>\n",
       "  <script src=\"quadrat.js\"></script>\n",
       "</body>\n",
       "</html>"
      ],
      "text/plain": [
       "<IPython.core.display.HTML object>"
      ]
     },
     "metadata": {},
     "output_type": "display_data"
    }
   ],
   "source": [
    "%%html\n",
    "<!DOCTYPE html>\n",
    "<html lang=\"de\">\n",
    "<head>\n",
    "<link rel=\"stylesheet\" type=\"text/css\" href=\"my_style.css\">\n",
    "  <meta charset=\"utf-8\">\n",
    "  <title>externes JavaScript und css in HTML einbinden</title>\n",
    "\n",
    "</head>\n",
    "<body>\n",
    "  <h1>externes JavaScript in HTML einbinden</h1>\n",
    " <p> test test</p>\n",
    "  <main>\n",
    "    <input type=\"number\" id=\"Eingabe\" value=\"0\" size=\"3\">\n",
    "    <button type=\"button\" id=\"los\">Quadrat errechnen</button>\n",
    "  </main>\n",
    "  <script src=\"quadrat.js\"></script>\n",
    "</body>\n",
    "</html>"
   ]
  },
  {
   "cell_type": "code",
   "execution_count": 3,
   "metadata": {},
   "outputs": [
    {
     "data": {
      "text/html": [
       "<iframe width=\"800\" height=\"700\" frameborder=\"0\" src=\"http://pythontutor.com/iframe-embed.html#code=%23%20Example%20to%20torture%20students%0A%23%20from%20UC%20Berkeley%20CS61a%0A%23%20%28only%20works%20in%20Python%203%29%0A%0Adef%20f%28t%29%3A%0A%20%20%20%20def%20g%28t%29%3A%0A%20%20%20%20%20%20%20%20def%20h%28%29%3A%0A%20%20%20%20%20%20%20%20%20%20%20%20nonlocal%20t%0A%20%20%20%20%20%20%20%20%20%20%20%20t%20%2B%3D%201%0A%20%20%20%20%20%20%20%20return%20h,%20lambda%3A%20t%0A%20%20%20%20h,%20gt%20%3D%20g%280%29%0A%20%20%20%20return%20h,%20gt,%20lambda%3A%20t%0A%0Ah,%20gt,%20ft%20%3D%20f%280%29%0Aft%28%29,%20gt%28%29%0Ah%28%29%0Aft%28%29,%20gt%28%29&codeDivHeight=400&codeDivWidth=350&cumulative=false&curInstr=0&heapPrimitives=false&origin=opt-frontend.js&py=3&rawInputLstJSON=%5B%5D&textReferences=false\"> </iframe>"
      ],
      "text/plain": [
       "<IPython.core.display.HTML object>"
      ]
     },
     "metadata": {},
     "output_type": "display_data"
    }
   ],
   "source": [
    "%%html\n",
    "<iframe width=\"800\" height=\"700\" frameborder=\"0\" src=\"http://pythontutor.com/iframe-embed.html#code=%23%20Example%20to%20torture%20students%0A%23%20from%20UC%20Berkeley%20CS61a%0A%23%20%28only%20works%20in%20Python%203%29%0A%0Adef%20f%28t%29%3A%0A%20%20%20%20def%20g%28t%29%3A%0A%20%20%20%20%20%20%20%20def%20h%28%29%3A%0A%20%20%20%20%20%20%20%20%20%20%20%20nonlocal%20t%0A%20%20%20%20%20%20%20%20%20%20%20%20t%20%2B%3D%201%0A%20%20%20%20%20%20%20%20return%20h,%20lambda%3A%20t%0A%20%20%20%20h,%20gt%20%3D%20g%280%29%0A%20%20%20%20return%20h,%20gt,%20lambda%3A%20t%0A%0Ah,%20gt,%20ft%20%3D%20f%280%29%0Aft%28%29,%20gt%28%29%0Ah%28%29%0Aft%28%29,%20gt%28%29&codeDivHeight=400&codeDivWidth=350&cumulative=false&curInstr=0&heapPrimitives=false&origin=opt-frontend.js&py=3&rawInputLstJSON=%5B%5D&textReferences=false\"> </iframe>"
   ]
  }
 ],
 "metadata": {
  "hide_input": false,
  "kernelspec": {
   "display_name": "Python 3",
   "language": "python",
   "name": "python3"
  },
  "language_info": {
   "codemirror_mode": {
    "name": "ipython",
    "version": 3
   },
   "file_extension": ".py",
   "mimetype": "text/x-python",
   "name": "python",
   "nbconvert_exporter": "python",
   "pygments_lexer": "ipython3",
   "version": "3.5.1"
  },
  "nbTranslate": {
   "displayLangs": [
    "en",
    "de"
   ],
   "hotkey": "alt-t",
   "langInMainMenu": true,
   "sourceLang": "de",
   "targetLang": "en",
   "useGoogleTranslate": true
  },
  "toc": {
   "colors": {
    "hover_highlight": "#DAA520",
    "running_highlight": "#FF0000",
    "selected_highlight": "#FFD700"
   },
   "moveMenuLeft": true,
   "nav_menu": {
    "height": "12px",
    "width": "252px"
   },
   "navigate_menu": true,
   "number_sections": true,
   "sideBar": true,
   "threshold": 4,
   "toc_cell": false,
   "toc_section_display": "block",
   "toc_window_display": false,
   "widenNotebook": false
  }
 },
 "nbformat": 4,
 "nbformat_minor": 2
}
