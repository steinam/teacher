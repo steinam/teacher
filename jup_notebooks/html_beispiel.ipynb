{
 "cells": [
  {
   "cell_type": "code",
   "execution_count": 1,
   "metadata": {},
   "outputs": [
    {
     "data": {
      "text/html": [
       "<html>\n",
       "<head>\n",
       "<link rel=\"stylesheet\" type=\"text/css\" href=\"my_style.css\">\n",
       "</head>\n",
       "<body>\n",
       "\n",
       "<h1>This is a heading</h1>\n",
       "<p>This is a jjjhjhj.</p>\n",
       "\n",
       "\n",
       "<script type=\"text/javascript\" src=\"script.js\"></script>\n",
       "</body>\n",
       "</body>\n",
       "</html>"
      ],
      "text/plain": [
       "<IPython.core.display.HTML object>"
      ]
     },
     "metadata": {},
     "output_type": "display_data"
    }
   ],
   "source": [
    "%%html\n",
    "<html>\n",
    "<head>\n",
    "<link rel=\"stylesheet\" type=\"text/css\" href=\"my_style.css\">\n",
    "</head>\n",
    "<body>\n",
    "\n",
    "<h1>This is a heading</h1>\n",
    "<p>This is a jjjhjhj.</p>\n",
    "\n",
    "\n",
    "<script type=\"text/javascript\" src=\"script.js\"></script>\n",
    "</body>\n",
    "</body>\n",
    "</html>\n"
   ]
  },
  {
   "cell_type": "code",
   "execution_count": 2,
   "metadata": {},
   "outputs": [
    {
     "data": {
      "text/html": [
       "<!DOCTYPE html>\n",
       "<html lang=\"de\">\n",
       "<head>\n",
       "<link rel=\"stylesheet\" type=\"text/css\" href=\"my_style.css\">\n",
       "  <meta charset=\"utf-8\">\n",
       "  <title>externes JavaScript und css in HTML einbinden</title>\n",
       "\n",
       "</head>\n",
       "<body>\n",
       "  <h1>externes JavaScript in HTML einbinden</h1>\n",
       " <p> test test</p>\n",
       "  <main>\n",
       "    <input type=\"number\" id=\"Eingabe\" value=\"0\" size=\"3\">\n",
       "    <button type=\"button\" id=\"los\">Quadrat errechnen</button>\n",
       "  </main>\n",
       "  <script src=\"quadrat.js\"></script>\n",
       "</body>\n",
       "</html>"
      ],
      "text/plain": [
       "<IPython.core.display.HTML object>"
      ]
     },
     "metadata": {},
     "output_type": "display_data"
    }
   ],
   "source": [
    "%%html\n",
    "<!DOCTYPE html>\n",
    "<html lang=\"de\">\n",
    "<head>\n",
    "<link rel=\"stylesheet\" type=\"text/css\" href=\"my_style.css\">\n",
    "  <meta charset=\"utf-8\">\n",
    "  <title>externes JavaScript und css in HTML einbinden</title>\n",
    "\n",
    "</head>\n",
    "<body>\n",
    "  <h1>externes JavaScript in HTML einbinden</h1>\n",
    " <p> test test</p>\n",
    "  <main>\n",
    "    <input type=\"number\" id=\"Eingabe\" value=\"0\" size=\"3\">\n",
    "    <button type=\"button\" id=\"los\">Quadrat errechnen</button>\n",
    "  </main>\n",
    "  <script src=\"quadrat.js\"></script>\n",
    "</body>\n",
    "</html>"
   ]
  },
  {
   "cell_type": "code",
   "execution_count": null,
   "metadata": {
    "collapsed": true
   },
   "outputs": [],
   "source": []
  }
 ],
 "metadata": {
  "kernelspec": {
   "display_name": "Python 3",
   "language": "python",
   "name": "python3"
  },
  "language_info": {
   "codemirror_mode": {
    "name": "ipython",
    "version": 3
   },
   "file_extension": ".py",
   "mimetype": "text/x-python",
   "name": "python",
   "nbconvert_exporter": "python",
   "pygments_lexer": "ipython3",
   "version": "3.5.1"
  },
  "toc": {
   "colors": {
    "hover_highlight": "#DAA520",
    "running_highlight": "#FF0000",
    "selected_highlight": "#FFD700"
   },
   "moveMenuLeft": true,
   "nav_menu": {
    "height": "12px",
    "width": "252px"
   },
   "navigate_menu": true,
   "number_sections": true,
   "sideBar": true,
   "threshold": 4,
   "toc_cell": false,
   "toc_section_display": "block",
   "toc_window_display": false,
   "widenNotebook": false
  }
 },
 "nbformat": 4,
 "nbformat_minor": 2
}
